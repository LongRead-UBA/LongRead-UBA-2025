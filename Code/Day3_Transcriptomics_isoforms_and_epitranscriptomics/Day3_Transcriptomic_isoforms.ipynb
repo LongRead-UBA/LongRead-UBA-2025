{
  "nbformat": 4,
  "nbformat_minor": 0,
  "metadata": {
    "colab": {
      "provenance": [],
      "collapsed_sections": [
        "AS8yfXVXQnxY"
      ]
    },
    "kernelspec": {
      "name": "python3",
      "display_name": "Python 3"
    },
    "language_info": {
      "name": "python"
    }
  },
  "cells": [
    {
      "cell_type": "markdown",
      "source": [
        "# Day 3: Transcriptomic Isoforms - Nanopore cDNA Sequencing Pipeline\n",
        "\n",
        "## Bash Introduction\n",
        "### Overview\n",
        "\n",
        "This notebook demonstrates a bioinformatics pipeline designed to analyze nanopore cDNA sequencing data, specifically aimed at quantifying transcript isoforms and assessing alternative splicing events. The pipeline includes four main steps:\n",
        "\n",
        "1. **Indexing reference genomes/transcriptomes** using `minimap2`.\n",
        "2. **Read mapping** using `minimap2`, aligning nanopore sequencing reads to both a reference transcriptome (for quantification) and a reference genome (for visualization).\n",
        "3. **Conversion to BAM format** with `samtools`, preparing alignment data for downstream analysis.\n",
        "4. **Transcript quantification** using `salmon`, which estimates the abundance of transcript isoforms, particularly useful for alternative splicing analyses.\n",
        "\n",
        "\n",
        "---\n",
        "\n",
        "\n",
        "### Experimental Setup\n",
        "\n",
        "The dataset used here comprises 12 barcoded samples divided into treatment groups and cellular fractions:\n",
        "\n",
        "- **Barcode 01-03**: Nuclear fraction, exposed to light\n",
        "- **Barcode 04-06**: Nuclear fraction, maintained in dark conditions\n",
        "- **Barcode 07-09**: Cytoplasmic fraction, exposed to light\n",
        "- **Barcode 10-12**: Cytoplasmic fraction, maintained in dark conditions\n",
        "\n",
        "These groupings allow us to investigate the cellular localization and treatment effects on transcript isoform abundance and splicing patterns.\n",
        "\n",
        "\n",
        "*Usually dorado basecaller outputs unmapped BAM files. In this case we will be directly using the FASTQ from the folder `/.../ONT_RNA_workshop/3.1_Transcriptomics/basecall/fastq_files/`*\n",
        "\n",
        "---\n",
        "\n",
        "\n",
        "### Basecalling and Demultiplexing (Previously Performed)\n",
        "\n",
        "The raw nanopore sequencing data were basecalled and demultiplexed as follows:\n",
        "\n",
        "*The dorado basecaller uses `.POD5` as input, so if you are using old sequencing data, `.fast5 -> .POD5` conversion should be performed.*\n",
        "```bash\n",
        "# Convert FAST5 to POD5 format\n",
        "pod5 convert fast5 /path/to/fast5/*.fast5 --output /path/to/pod5/\n",
        "\n",
        "# Basecalling with Dorado\n",
        "# SQK-PCB109 is the sequencing kit name\n",
        "# \"sup\" indicates the use of a high-accuracy basecalling model\n",
        "dorado basecaller sup /path/to/pod5 --kit-name SQK-PCB109 --verbose -o /path/to/basecalling\n",
        "\n",
        "# Barcode demultiplexing\n",
        "# '--no-classify' is used since classification occurred during basecalling\n",
        "dorado demux --output-dir /path/to/basecalling/barcodes --no-classify --emit-fastq /path/to/basecalling/basecalled_reads.bam\n",
        "```\n",
        "\n",
        "---\n",
        "\n",
        "### Software\n",
        "- MINIMAP2 - (https://github.com/lh3/minimap2)\n",
        "- Samtools - (https://github.com/samtools/samtools)\n",
        "- SALMON - (https://github.com/COMBINE-lab/salmon)\n",
        "- SUPPA2 - (https://github.com/comprna/SUPPA)\n",
        "\n",
        "\n",
        "---\n",
        "\n",
        "\n",
        "### File Paths and Parameters\n",
        "\n",
        "Define paths for input and output files and set parameters for computational efficiency:\n",
        "\n",
        "*Here we are defining variables in bash programming laguage for latter use*\n",
        "\n",
        "```bash\n",
        "# Base directory - This is the directory from your local machine!\n",
        "BASE_DIR=\".\"\n",
        "\n",
        "# Input directories and files\n",
        "FASTQ_DIR=\"${BASE_DIR}/ONT_RNA_workshop/3.1_Transcriptomics/basecall/fastq_files/\"\n",
        "TRANSCRIPTOME_FA=\"{BASE_DIR}/ONT_RNA_workshop/Arabidopsis_references/transcriptome/AtRTDv2_1_QUASI.LS.fa\"\n",
        "GENOME_FA=\"{BASE_DIR}/ONT_RNA_workshop/Arabidopsis_references/genome/TAIR10_mod.fna\"\n",
        "\n",
        "# Indexes\n",
        "MINIMAP2_INDEX_TRANSCRIPTOME=\"{BASE_DIR}/ONT_RNA_workshop/Arabidopsis_references/transcriptome/minimap2_index_transcriptome\"\n",
        "MINIMAP2_INDEX_GENOME=\"{BASE_DIR}/ONT_RNA_workshop/Arabidopsis_references/genome/minimap2_index_genome\"\n",
        "\n",
        "# Output directories\n",
        "BAM_DIR_TRANSCRIPTOME=\"{BASE_DIR}/ONT_RNA_workshop/3.1_Transcriptomics/mapping/minimap2/transcriptome\"\n",
        "BAM_DIR_GENOME=\"{BASE_DIR}/ONT_RNA_workshop/3.1_Transcriptomics/mapping/minimap2/genome\"\n",
        "SALMON_DIR=\"{BASE_DIR}/ONT_RNA_workshop/3.1_Transcriptomics/mapping/salmon\"\n",
        "\n",
        "# Computational parameters (computers cores available)\n",
        "THREADS=8\n",
        "```\n",
        "\n",
        "*In bash, this variables can be called by using a `$` before their name.*\n",
        "\n",
        "\n",
        "**The `AtRTDv2_1_QUASI.LS` is a modified version of AtRTDv2_QUASI (https://ics.hutton.ac.uk/atRTD/)**\n",
        "\n",
        "\n",
        "---\n",
        "\n",
        "### Step-by-Step Processing Pipeline\n",
        "\n",
        "#### Step 1: Indexing Reference Genome and Transcriptome\n",
        "Create minimap2 indexes for efficient mapping.\n",
        "\n",
        "*In Bash, including double quotes (\" \") around variables is crucial for correct and safe handling of values, especially when they might contain spaces or special characters.*\n",
        "```bash\n",
        "minimap2 -d \"$MINIMAP2_INDEX_TRANSCRIPTOME\" \"$TRANSCRIPTOME_FA\"\n",
        "minimap2 -d \"$MINIMAP2_INDEX_GENOME\" \"$GENOME_FA\"\n",
        "```\n",
        "\n",
        "#### Step 2: Prepare Output Directories\n",
        "*`mkdir` creates the folder in the system, this is a safe practice to avoid errors if the directory is missing.*\n",
        "```bash\n",
        "mkdir -p \"$BAM_DIR_TRANSCRIPTOME\"\n",
        "mkdir -p \"$BAM_DIR_GENOME\"\n",
        "mkdir -p \"$SALMON_DIR\"\n",
        "```\n",
        "\n",
        "#### Step 3: Loop through each FASTQ file\n",
        "- **Map reads to the transcriptome** for quantification.\n",
        "- **Map reads to the genome** for visualization (e.g., IGV).\n",
        "- **Convert alignments to BAM**.\n",
        "- **Quantify isoforms with salmon**.\n",
        "\n",
        "*This FOR LOOP iterates over each of the `.fastq` files from the `$FASTQ_DIR`.*\n",
        "\n",
        "```bash\n",
        "for FASTQ_FILE in \"$FASTQ_DIR\"/*.fastq; do\n",
        "    FILENAME=$(basename \"$FASTQ_FILE\" .fastq)\n",
        "\n",
        "    # Transcriptome alignment\n",
        "    minimap2 -t $THREADS -a -x map-ont \"$MINIMAP2_INDEX_TRANSCRIPTOME\" \"$FASTQ_FILE\" | \\\n",
        "    samtools view -Sb > \"$BAM_DIR_TRANSCRIPTOME/$FILENAME.bam\"\n",
        "\n",
        "    # Genome alignment\n",
        "    minimap2 -t $THREADS -a -x splice \"$MINIMAP2_INDEX_GENOME\" \"$FASTQ_FILE\" | \\\n",
        "    samtools view -Sb > \"$BAM_DIR_GENOME/$FILENAME.bam\"\n",
        "\n",
        "    # Quantification with salmon\n",
        "    salmon quant --ont -p $THREADS \\\n",
        "        -t \"$TRANSCRIPTOME_FA\" \\\n",
        "        -l U \\\n",
        "        -a \"$BAM_DIR_TRANSCRIPTOME/$FILENAME.bam\" \\\n",
        "        -o \"$SALMON_DIR/$FILENAME\"\n",
        "done\n",
        "```\n",
        "\n",
        "---\n",
        "\n",
        "### Final Outputs\n",
        "\n",
        "Results from this pipeline are essential for downstream analyses such as differential isoform expression, alternative splicing events, and visualization of splice variants.\n"
      ],
      "metadata": {
        "id": "G6MZSyh1eG0P"
      }
    },
    {
      "cell_type": "markdown",
      "source": [
        "# Coding time!"
      ],
      "metadata": {
        "id": "97Uqlj1hdwJJ"
      }
    },
    {
      "cell_type": "markdown",
      "source": [
        "## Squiggle preview (What is nanopore measuring)\n",
        "\n",
        "Let's start by peeking inside a POD5. This is the nanopore rawdata.\n",
        "POD5 contain the measurements of each read when it passed through the pore. The measurement is in pico Amperes (pA), a current measure, and the variation on this signal is what the `dorado` basecalling models uses to predict which K-mer of bases was passing at the time.\n",
        "\n",
        "To read this files (and see the signal) we will use the Nanopore POD5 library (https://pod5-file-format.readthedocs.io)."
      ],
      "metadata": {
        "id": "JF1AVq6xG4YH"
      }
    },
    {
      "cell_type": "code",
      "source": [
        "import os, sys\n",
        "\n",
        "# #Set path of the salmon files\n",
        "# BASE_DIR = \"/../\"\n",
        "# FAST5_EXAMPLE = os.path.join(BASE_DIR, \"ONT_RNA_workshop\", \"ont_raw_data\", \"RNA\")\n",
        "# SALMON_DIR = os.path.join(BASE_DIR, \"ONT_RNA_workshop\", \"3.1_Transcriptomics\", \"mapping\", \"salmon\")\n",
        "# OUTPUT_DIR = os.path.join(BASE_DIR, \"ONT_RNA_workshop\", \"3.1_Transcriptomics\", \"outputs\")\n",
        "\n",
        "# This could be used if running the notebook locally (not in colab)"
      ],
      "metadata": {
        "id": "IwsYbeGbZBhK"
      },
      "execution_count": null,
      "outputs": []
    },
    {
      "cell_type": "code",
      "source": [
        "# ⬇️ run this once; the rest of the cell is pure Python\n",
        "!pip -q install pod5"
      ],
      "metadata": {
        "id": "piMA9rmKZs5s"
      },
      "execution_count": null,
      "outputs": []
    },
    {
      "cell_type": "code",
      "source": [
        "import pod5\n",
        "import itertools, matplotlib.pyplot as plt\n",
        "import pprint"
      ],
      "metadata": {
        "id": "Jo_kq_8NBe4j"
      },
      "execution_count": null,
      "outputs": []
    },
    {
      "cell_type": "code",
      "source": [
        "\n",
        "# ── 1) Describe the POD5 structure ───────────────────────────────────────────────────────────────\n",
        "def describe_pod5(fpath, n_preview_fields=10):\n",
        "    with pod5.Reader(fpath) as rdr:\n",
        "        n_reads = rdr.num_reads\n",
        "        print(f\"\\n📄  File : {fpath}\")\n",
        "        print(f\"🧮  Total reads : {n_reads}\")\n",
        "        #\n",
        "        first = next(rdr.reads())\n",
        "        cols = [k for k in dir(first)\n",
        "                if not k.startswith(\"_\")\n",
        "                and k != \"signal\"\n",
        "                and not callable(getattr(first, k))]\n",
        "        #\n",
        "        print(\"📑  Columns :\", \", \".join(cols) if cols else \"(schema unavailable)\")\n",
        "        first = next(rdr.reads())\n",
        "        keys = [k for k in dir(first) if not k.startswith(\"_\") and k != \"signal\"]\n",
        "        preview = {}\n",
        "        for k in keys[:n_preview_fields]:\n",
        "            v = getattr(first, k)\n",
        "            if hasattr(v, \"__len__\") and not isinstance(v, (str, bytes)):\n",
        "                preview[k] = f\"<{type(v).__name__} len={len(v)}>\"\n",
        "            else:\n",
        "                preview[k] = v\n",
        "        print(\"🔍  First read metadata preview:\")\n",
        "        pprint.pprint(preview, compact=True, sort_dicts=False)\n",
        "        print(\"\\n\")\n",
        "\n",
        "# ── 2) LOAD the file as needed ───────────────────────────────────────────────────────────────\n",
        "def load_first_reads(fpath, n=2):\n",
        "    with pod5.Reader(fpath) as rdr:\n",
        "        traces = [(str(r.read_id), r.signal)\n",
        "                    for r in itertools.islice(rdr.reads(), n)]\n",
        "    ylabel = \"Signal (pA)\"\n",
        "    return traces, ylabel\n",
        "\n",
        "# ── 3) PLOT ───────────────────────────────────────────────────────────────\n",
        "def plot_squiggles(traces, ylabel):\n",
        "    \"\"\"\n",
        "    Draw one subplot per trace where\n",
        "        traces = [(read_id, signal), ...]\n",
        "    \"\"\"\n",
        "    print(\"# Plotting The electric signal:\\n\")\n",
        "    fig, axes = plt.subplots(len(traces), 1, figsize=(12, 3*len(traces)))\n",
        "    if len(traces) == 1:                        # matplotlib quirk\n",
        "        axes = [axes]\n",
        "    for ax, (rid, sig) in zip(axes, traces):\n",
        "        ax.plot(sig, lw=0.5)\n",
        "        ax.set_title(f\"Read: {rid}\")\n",
        "        ax.set_xlabel(\"Sample index\")\n",
        "        ax.set_ylabel(ylabel)\n",
        "    plt.tight_layout()\n",
        "    plt.show()\n",
        "\n"
      ],
      "metadata": {
        "id": "0a0wLE3e98GI"
      },
      "execution_count": null,
      "outputs": []
    },
    {
      "cell_type": "code",
      "source": [
        "from google.colab import files\n",
        "# Small snippet to upload a file to colab.\n",
        "# Load the .POD5 sample file\n",
        "uploaded = files.upload()"
      ],
      "metadata": {
        "id": "z7_NAG2eEzJX"
      },
      "execution_count": null,
      "outputs": []
    },
    {
      "cell_type": "code",
      "source": [
        "# Brief POD5 description\n",
        "describe_pod5('sample_20reads.pod5')\n",
        "\n",
        "# Read and parse the POD5 file\n",
        "traces, ylab = load_first_reads('sample_20reads.pod5', n=2)\n",
        "\n",
        "# students can explore `traces` here, e.g. print(len(traces[0][1]))\n",
        "plot_squiggles(traces, ylabel=ylab)"
      ],
      "metadata": {
        "id": "b86DRD_aBvGt"
      },
      "execution_count": null,
      "outputs": []
    },
    {
      "cell_type": "markdown",
      "source": [
        "---\n",
        "\n",
        "## Data analysis\n",
        "\n",
        "Now it's time for coding! This script is intented as a guide to help you load the data from SALMON to have some insights on the data."
      ],
      "metadata": {
        "id": "FIeqle0RW8ll"
      }
    },
    {
      "cell_type": "code",
      "execution_count": null,
      "metadata": {
        "id": "_OnsXaVbeEEZ"
      },
      "outputs": [],
      "source": [
        "# Libraries to handle files from the system\n",
        "import os, sys\n",
        "# Library to load dataframes, filter and parse data\n",
        "import pandas as pd  # 'as pd' works as an alias for the pandas library (common practice)"
      ]
    },
    {
      "cell_type": "markdown",
      "source": [
        "### Loading SALMON Output.\n",
        "\n",
        "Since SALMON outputs one folder for each sample we want to extract only the `quant.sf` from each dir.\n",
        "\n",
        "The following script copies every quant.sf file and renames it as the containing folder name (You can copy and paste this script to the terminal):\n",
        "\n",
        "*Remember to define the base directory!*\n",
        "\n",
        "```bash\n",
        "BASE_DIR=\".\"\n",
        "\n",
        "# Input directory containing all barcode folders\n",
        "INPUT_DIR=\"${BASE_DIR}/ONT_RNA_workshop/3.1_Transcriptomics/mapping/salmon\"\n",
        "\n",
        "# Output directory to store renamed quant.sf files\n",
        "OUTPUT_DIR=\"${BASE_DIR}/ONT_RNA_workshop/3.1_Transcriptomics/mapping/salmon/colab_quant_files\"\n",
        "echo \"$OUTPUT_DIR\"\n",
        "# Create the output directory if it doesn't exist\n",
        "mkdir -p \"$OUTPUT_DIR\"\n",
        "\n",
        "# Find and copy each quant.sf file\n",
        "find \"$INPUT_DIR\" -type f -name \"quant.sf\" | while read filepath; do\n",
        "    # Get the folder name containing the quant.sf\n",
        "    folder_name=$(basename \"$(dirname \"$filepath\")\")\n",
        "    \n",
        "    # Define new filename and destination\n",
        "    new_filename=\"${folder_name}.sf\"\n",
        "    cp \"$filepath\" \"$OUTPUT_DIR/$new_filename\"\n",
        "    \n",
        "    echo \"Copied $filepath to $OUTPUT_DIR/$new_filename\"\n",
        "done\n",
        "\n",
        "echo \"✅ All quant.sf files copied and renamed.\"\n",
        "\n",
        "```\n",
        "\n",
        "*(Paste on the terminal using Ctrl+Shift+V)*"
      ],
      "metadata": {
        "id": "n2pzIg-LRd72"
      }
    },
    {
      "cell_type": "markdown",
      "source": [
        "Feel free to inspect the `quant.sf` file.\n",
        "\n",
        "You can do this open it with a regular text editor (slower).\n",
        "\n",
        "Or using the terminal command: `$ less quant.sf` (just loads on memory the part it's showing)."
      ],
      "metadata": {
        "id": "tdXCf_sdjk1P"
      }
    },
    {
      "cell_type": "code",
      "source": [
        "from google.colab import files\n",
        "# List SALMON quant files:\n",
        "# /.../ONT_RNA_workshop/3.1_Transcriptomics/mapping/salmon/colab_quant_files\n",
        "# Upload all the .sf files together (hold Ctrl/Cmd to select multiple)\n",
        "uploaded = files.upload()"
      ],
      "metadata": {
        "id": "qRCXNdPKVa8e"
      },
      "execution_count": null,
      "outputs": []
    },
    {
      "cell_type": "code",
      "source": [
        "import pandas as pd\n",
        "from io import StringIO\n",
        "\n",
        "# Build a new list for TPM-only dataframes\n",
        "tpm_tables = []\n",
        "\n",
        "for i in range(12):\n",
        "    barcode_number = (\"0\" + str(i+1)) if i < 9 else i+1\n",
        "    filename = f\"SQK-PCB109_barcode{barcode_number}_chr3.sf\"\n",
        "    sample_name = filename.split(\"_\")[1].replace(\".sf\", \"\")     # Get the name from the filename\n",
        "    df = pd.read_csv(filename, sep='\\t')  # Load each table as a pandas df\n",
        "    df = df.set_index('Name')                                   # Set the isoform 'Name' as index\n",
        "\n",
        "    tpm = df[['TPM']].rename(columns={'TPM': sample_name})      # Keep only TPM column and rename it to sample name\n",
        "    tpm_tables.append(tpm)\n",
        "\n",
        "tpm_combined = pd.concat(tpm_tables, axis=1)                    # Merge all dataframes (TPM)\n",
        "tpm_combined[\"Gene\"] = tpm_combined.index.str.slice(0, 9)       # Extract gene name for later grouping\n",
        "\n",
        "# Sorting the columns (just for clearer prints)  :)\n",
        "barcode_order = [\n",
        "    \"barcode01\", \"barcode02\", \"barcode03\", \"barcode04\", \"barcode05\", \"barcode06\",\n",
        "    \"barcode07\", \"barcode08\", \"barcode09\", \"barcode10\", \"barcode11\", \"barcode12\"\n",
        "]\n",
        "sorted_columns = ['Gene'] + barcode_order\n",
        "tpm_combined = tpm_combined[sorted_columns]\n",
        "\n",
        "tpm_combined.head()     # .head() command prints the first rows"
      ],
      "metadata": {
        "id": "eT1XezsxVayZ"
      },
      "execution_count": null,
      "outputs": []
    },
    {
      "cell_type": "markdown",
      "source": [
        "**✅ All Samples Loaded**\n",
        "\n",
        "We have successfully loaded all the samples into a single DataFrame, where each row represents a transcript (identified by its `Name`), and each column corresponds to a different sample.\n",
        "\n",
        "This unified format allows us to easily compare transcript expression levels **across samples** and **search for specific genes of interest**.\n",
        "\n",
        "---\n",
        "\n",
        "### 📊 About SALMON Outputs\n",
        "\n",
        "Salmon provides two key metrics for transcript quantification:\n",
        "\n",
        "- **NumReads**: the estimated number of reads assigned to each transcript.\n",
        "- **TPM (Transcripts Per Million)**: a normalized measure of transcript abundance that accounts for both sequencing depth and transcript length.\n",
        "\n",
        "Unlike raw read counts, **TPMs are directly comparable across samples**, making them especially useful for visualization and interpretation.\n",
        "\n",
        "> 🔍 In this notebook, we'll focus on **TPM values** to explore expression patterns between conditions or samples.\n"
      ],
      "metadata": {
        "id": "7wDlMKBtcrvX"
      }
    },
    {
      "cell_type": "code",
      "source": [
        "gene_of_interest = \"AT3G61860\"\n",
        "tpm_combined[tpm_combined[\"Gene\"] == gene_of_interest]"
      ],
      "metadata": {
        "id": "hjPqxbe8ZFXB"
      },
      "execution_count": null,
      "outputs": []
    },
    {
      "cell_type": "markdown",
      "source": [],
      "metadata": {
        "id": "hTmhkKALeYDP"
      }
    },
    {
      "cell_type": "markdown",
      "source": [
        "## Alternative-splicing quantification on chr3 with SUPPA 2\n",
        "\n",
        "We will:\n",
        "\n",
        "1. **Install SUPPA 2** (https://github.com/comprna/SUPPA)\n",
        "2. **Generate alternative-splicing events** from the _AtRTDv2_ chr3 GTF  \n",
        "3. **Build a transcript-TPM matrix** from the 12 Salmon quantifications  \n",
        "4. **Compute PSI (Ψ) values per event** across all samples  \n",
        "\n",
        "> **Paths used below**  \n",
        "> *GTF* : `/.../ONT_RNA_workshop/Arabidopsis_references/transcriptome/AtRTDv2_1_QUASI_chr3.gtf`  \n",
        "> *Salmon outputs* : `/.../ONT_RNA_workshop/3.1_Transcriptomics/mapping/salmon/colab_quant_files/*.sf`  \n",
        "> Adjust if you placed the files somewhere else (e.g. Google Drive).\n",
        "\n",
        "---\n",
        "\n",
        "### 1) Install SUPPA 2\n",
        "Suppa2 can be easily installed like this:\n",
        "```bash\n",
        "pip install --quiet suppa==2.3\n",
        "````\n",
        "\n",
        "But since the last version (2.4) is still not pip installable, we have cloned suppa repository to the `tools` folder.\n",
        "\n",
        "Inside suppa folder, look for the `suppa.py` file!\n",
        "\n",
        "`/.../ONT_RNA_workshop/tools/SUPPA-2.4/suppa.py`\n",
        "\n",
        "###############################################\n",
        "\n",
        "\\### **REPLACE THE `/.../` FOR THE PROPER DIRECTORY!** ####\n",
        "###############################################\n",
        "\n",
        "---\n",
        "\n",
        "### 2) Generate splicing-event annotation (`.ioi`)\n",
        "\n",
        "```bash\n",
        "python /.../ONT_RNA_workshop/tools/SUPPA-2.4/suppa.py generateEvents \\\n",
        "    -i /.../ONT_RNA_workshop/Arabidopsis_references/transcriptome/AtRTDv2_1_QUASI_chr3.gtf \\\n",
        "    -o AtRTDv2_chr3 \\\n",
        "    -f ioi\n",
        "```\n",
        "\n",
        "Creates `AtRTDv2_chr3.ioi` file\n",
        "\n",
        "---\n",
        "\n",
        "## 3) Build the transcript-TPM matrix *from the Pandas DataFrame you already loaded*\n",
        "\n",
        "> We have a DataFrame named **`tpm_combined`** where  \n",
        "> &nbsp;&nbsp;• the *index* = **transcript IDs** (e.g. `AT3G01040.1`)  \n",
        "> &nbsp;&nbsp;• the first column = **gene ID** (optional for SUPPA)  \n",
        "> &nbsp;&nbsp;• the remaining 12 columns = TPM values for each barcode sample  \n",
        ">   \n",
        "> SUPPA’s `psiPerEvent` just needs a **tab-separated file** whose first column is the\n",
        "> transcript ID and the header row lists the sample names.  \n",
        "> We can write it straight from the DataFrame:\n"
      ],
      "metadata": {
        "id": "RHgDme8eeYbt"
      }
    },
    {
      "cell_type": "code",
      "source": [
        "# Keep the index and the 'Gene' column\n",
        "#base_cols = ['Name']\n",
        "\n",
        "# Define barcode groups\n",
        "groups = {\n",
        "    'Nuc_light': ['barcode01', 'barcode02', 'barcode03'],\n",
        "    'Nuc_dark': ['barcode04', 'barcode05', 'barcode06'],\n",
        "    'Cit_light': ['barcode07', 'barcode08', 'barcode09'],\n",
        "    'Cit_dark': ['barcode10', 'barcode11', 'barcode12']\n",
        "}\n",
        "\n",
        "# Split and store\n",
        "df_groups = {}\n",
        "for group_name, barcodes in groups.items():\n",
        "    df_groups[group_name] = tpm_combined[barcodes] # base_cols +\n",
        "\n",
        "for group_name, sub_df in df_groups.items():\n",
        "    sub_df.to_csv(f\"{group_name}_TPM.tsv\", sep='\\t', index=True)\n"
      ],
      "metadata": {
        "id": "3crqxwU9fSFc"
      },
      "execution_count": null,
      "outputs": []
    },
    {
      "cell_type": "markdown",
      "source": [
        "*Look for the file on the right panel of Colab. It's under the folder Icon*\n",
        "\n",
        "**<--- (Check for the file on the left and download it!)**\n",
        "\n",
        "\n",
        "---\n",
        "\n",
        "### 4) Compute Ψ for each isoform (IOI)\n",
        "\n",
        "```bash\n",
        "python /.../ONT_RNA_workshop/tools/SUPPA-2.4/suppa.py psiPerIsoform \\\n",
        "  -g AtRTDv2_chr3.ioi \\\n",
        "  -e Nuc_light.tsv \\\n",
        "  -o Nuc_light\n",
        "````\n",
        "\n",
        "Output **`Nuc_light.psi`**\n",
        "*Rows* = transcripts  *Columns* = 12 barcodes  *Values* = Ψ (isoform usage).\n",
        "\n",
        "---\n",
        "\n",
        "### 5) Compare light vs dark nuclei (group-comparison)\n",
        "\n",
        "The command below performs an **empirical group comparison** (`-gc`) between the\n",
        "*light* and *dark* nuclei conditions, using:\n",
        "\n",
        "* **Input annotation** `AtRTDv2_chr3.ioi`\n",
        "* **Per-condition Ψ matrices** `Nuc_light_TPM_isoform.psi` and `Nuc_dark_TPM_isoform.psi`\n",
        "* **Per-condition TPM tables** `Nuc_light_TPM.tsv` and `Nuc_dark_TPM.tsv`\n",
        "* **Sliding-window area** `--area 500` (recommended default)\n",
        "\n",
        "```bash\n",
        "SUPPA=\"/.../ONT_RNA_workshop/3.1_Transcriptomics/SUPPA2/\"\n",
        "    \n",
        "python /.../ONT_RNA_workshop/tools/SUPPA-2.4/suppa.py diffSplice \\\n",
        "    -m empirical --combination -th 1 \\\n",
        "    --input \"${SUPPA}AtRTDv2_chr3.ioi\" \\\n",
        "    --psi \"${SUPPA}psi/Nuc_light_TPM_isoform.psi\" \"${SUPPA}psi/Nuc_dark_TPM_isoform.psi\" \"${SUPPA}psi/Cit_light_TPM_isoform.psi\" \"${SUPPA}psi/Cit_dark_TPM_isoform.psi\" \\\n",
        "    --tpm \"${SUPPA}per_condition_dataframe/Nuc_light_TPM.tsv\" \"${SUPPA}per_condition_dataframe/Nuc_dark_TPM.tsv\" \"${SUPPA}per_condition_dataframe/Cit_light_TPM.tsv\" \"${SUPPA}per_condition_dataframe/Cit_dark_TPM.tsv\" \\\n",
        "    --area 500 -gc -o \"${SUPPA}comparisons/nuc_cit_light_dark\"\n",
        "```\n",
        "\n",
        "**Output** `light_dark.dpsi` (and related files):\n",
        "\n",
        "| Column                 | Meaning                                    |\n",
        "| ---------------------- | ------------------------------------------ |\n",
        "| `gene_id` / `event_id` | Gene or transcript being tested            |\n",
        "| `dpsi`                 | ΔΨ between conditions                      |\n",
        "| `p_value`              | Raw empirical p-value                      |\n",
        "| `adj_p_value`          | Benjamini–Hochberg FDR (already corrected) |\n",
        "\n",
        "---\n",
        "\n",
        "### (Quick check of the comparison)\n",
        "\n",
        "```bash\n",
        "head -n 5 /.../ONT_RNA_workshop/3.1_Transcriptomics/SUPPA2/comparisons/light_dark.dpsi | column -t\n",
        "```\n",
        "\n",
        "You now have **differential isoform-usage** results ready for downstream\n",
        "visualisation (volcano plots, heatmaps) or functional enrichment.\n",
        "\n",
        "---\n"
      ],
      "metadata": {
        "id": "U1cDlGV_eanR"
      }
    },
    {
      "cell_type": "markdown",
      "source": [
        "### Loading the differential isoform usage comparison\n",
        "\n",
        "Now we wil dive into the SUPPA2 output and make some plots!\n",
        "\n",
        "First of all lest check for the genes with the biggest alternative splicing variations:"
      ],
      "metadata": {
        "id": "qbyryQKr3G6s"
      }
    },
    {
      "cell_type": "code",
      "source": [
        "import pandas as pd\n",
        "\n",
        "# Load the file: \"/.../ONT_RNA_workshop/3.1_Transcriptomics/SUPPA2/comparisons/nuc_cit_light_dark.dpsi\"\n",
        "uploaded = files.upload()\n",
        "SUPPA_FILE = next(iter(uploaded))"
      ],
      "metadata": {
        "id": "4sRNbcTrDjnu"
      },
      "execution_count": null,
      "outputs": []
    },
    {
      "cell_type": "markdown",
      "source": [
        "Let's create a nice dataframe splitting gene name and isoforms"
      ],
      "metadata": {
        "id": "gCkrY9F_J5H7"
      }
    },
    {
      "cell_type": "code",
      "source": [
        "df_suppa = pd.read_csv(SUPPA_FILE, sep = \"\\t\")\n",
        "df_suppa.rename(columns=lambda c: c.replace('_TPM_isoform', ''), inplace=True)\n",
        "display(df_suppa.head())\n",
        "# Split the index and create 'gene' and 'isoform' columns\n",
        "df_suppa.index = df_suppa.index.str.split(';', expand=True)\n",
        "df_suppa.index.names = ['Gene', 'Transcript']\n",
        "print(\"Now with the new gene/isoform index\")\n",
        "df_suppa"
      ],
      "metadata": {
        "id": "xx32oH-BeZQS"
      },
      "execution_count": null,
      "outputs": []
    },
    {
      "cell_type": "markdown",
      "source": [
        "We can organize each of the outputs, splitting them into new dataframes (saved into a python dictionary)"
      ],
      "metadata": {
        "id": "lZYT8mXPKIms"
      }
    },
    {
      "cell_type": "code",
      "source": [
        "# 1) pull out the base names of each comparison (strip trailing _dPSI / _p-val)\n",
        "comparisons = sorted({c.rsplit(\"_\", 1)[0] for c in df_suppa.columns})\n",
        "# 2) build a dict of “tidy” data-frames: {comparison: 2-column DF}\n",
        "split_dfs = {\n",
        "    cmp: df_suppa[[f\"{cmp}_dPSI\", f\"{cmp}_p-val\"]].rename(\n",
        "            columns={f\"{cmp}_dPSI\": \"dPSI\", f\"{cmp}_p-val\": \"p_val\"})\n",
        "    for cmp in comparisons\n",
        "}\n",
        "\n",
        "# Optional: save each to TSV (Tab Separated Values)\n",
        "\n",
        "# for cmp, sub in split_dfs.items():\n",
        "#     sub.to_csv(f\"{cmp}.tsv\", sep=\"\\t\")\n",
        "#     print(\"✅\", cmp, \"→\", f\"{cmp}.tsv\")\n",
        "\n",
        "# Quick access example\n",
        "nuc_light_vs_dark = split_dfs[\"Nuc_light-Nuc_dark\"]\n",
        "nuc_light_vs_dark.head()"
      ],
      "metadata": {
        "id": "7u6YrKAF3-J3"
      },
      "execution_count": null,
      "outputs": []
    },
    {
      "source": [
        "# @title p_val\n",
        "\n",
        "from matplotlib import pyplot as plt\n",
        "nuc_light_vs_dark['p_val'].plot(kind='hist', bins=20, title='p_val')\n",
        "plt.gca().spines[['top', 'right',]].set_visible(False)"
      ],
      "cell_type": "code",
      "execution_count": null,
      "outputs": [],
      "metadata": {
        "cellView": "form",
        "id": "Dm4jBQZPPwlP"
      }
    },
    {
      "cell_type": "markdown",
      "source": [
        "### Creating a filter for significant values\n",
        "\n",
        "We will set 2 thresholds:\n",
        "- dpsi_cut: We will consider that variation on the psi less than 0.1 are irrelevant (or noise)\n",
        "- p-value_cut: Only keep the changes that are significant (< 0.05)"
      ],
      "metadata": {
        "id": "GHN2BhjrP5aL"
      }
    },
    {
      "cell_type": "code",
      "source": [
        "# --- All the comparisons made ----------------------------------\n",
        "contrasts = [\n",
        "    \"Nuc_light-Nuc_dark\",\n",
        "    \"Nuc_light-Cit_light\",\n",
        "    \"Nuc_light-Cit_dark\",\n",
        "    \"Nuc_dark-Cit_light\",\n",
        "    \"Nuc_dark-Cit_dark\",\n",
        "    \"Cit_light-Cit_dark\",\n",
        "]\n",
        "dpsi_cut  = 0.10           # |ΔPSI| threshold\n",
        "p_cut     = 0.05           # raw p threshold  (see §8 for FDR)\n",
        "\n",
        "# -------------------------------------------------------------\n",
        "\n",
        "sig = {\n",
        "    c: (\n",
        "        df_suppa[f\"{c}_p-val\"]   <= p_cut\n",
        "     ) & (\n",
        "        df_suppa[f\"{c}_dPSI\"].abs() >= dpsi_cut\n",
        "     ) & (\n",
        "        df_suppa[f\"{c}_dPSI\"].abs() < 1             # We also want to remove the\n",
        "     )\n",
        "    for c in contrasts\n",
        "}\n",
        "\n",
        "'''\n",
        "This filter can be improved by filtering the GENES with at least one\n",
        "significant value change. (you can try it!)\n",
        "Suggestion: use .groupby() and take advantage of the multiindex\n",
        "'''"
      ],
      "metadata": {
        "id": "s_ZYW6-o_Vh1"
      },
      "execution_count": null,
      "outputs": []
    },
    {
      "cell_type": "markdown",
      "source": [
        "### Some Plots to review the data!\n",
        "\n",
        "How can we explore the results from the SUPPA2 comparison.\n",
        "This is up to your biological question, but here are some ideas you can try  \n",
        ":)"
      ],
      "metadata": {
        "id": "AS8yfXVXQnxY"
      }
    },
    {
      "cell_type": "code",
      "source": [
        "import numpy as np"
      ],
      "metadata": {
        "id": "m84eh1MiK6BE"
      },
      "execution_count": null,
      "outputs": []
    },
    {
      "cell_type": "markdown",
      "source": [
        "#### Volcano plot"
      ],
      "metadata": {
        "id": "K8eQe3h7RCs3"
      }
    },
    {
      "cell_type": "code",
      "source": [
        "def volcano_plot(contrast, ax=None):\n",
        "    x = df_suppa[f\"{contrast}_dPSI\"]\n",
        "    y = -np.log10(df_suppa[f\"{contrast}_p-val\"])\n",
        "    ax = ax or plt.gca()\n",
        "    ax.scatter(x, y, s=8, alpha=.6,\n",
        "               c=sig[contrast].map({True:\"red\", False:\"grey\"}))\n",
        "    ax.axvline( dpsi_cut, ls=\"--\"); ax.axvline(-dpsi_cut, ls=\"--\")\n",
        "    ax.axhline(-np.log10(p_cut), ls=\"--\")\n",
        "    ax.set_xlabel(\"ΔPSI\"); ax.set_ylabel(\"-log10 p-value\")\n",
        "    ax.set_title(f\"Volcano • {contrast}\")\n",
        "\n",
        "volcano_plot(\"Nuc_light-Cit_light\")\n",
        "plt.show()"
      ],
      "metadata": {
        "id": "tr5FVm9c5J_W"
      },
      "execution_count": null,
      "outputs": []
    },
    {
      "cell_type": "markdown",
      "source": [
        "#### Cluster map"
      ],
      "metadata": {
        "id": "5-2SI6uCRFk-"
      }
    },
    {
      "cell_type": "code",
      "source": [
        "import seaborn as sns\n",
        "dpsi_cols = [c for c in df_suppa.columns if c.endswith(\"_dPSI\")]\n",
        "\n",
        "# Drop rows with NaN values in the dPSI columns and fill any remaining non-finite values with 0\n",
        "df_suppa_cleaned = df_suppa.dropna(subset=dpsi_cols).fillna(0)\n",
        "\n",
        "import seaborn as sns\n",
        "dpsi_cols = [f\"{c}_dPSI\" for c in contrasts]\n",
        "sns.clustermap(\n",
        "    df_suppa_cleaned[dpsi_cols],\n",
        "    cmap=\"vlag\", center=0,\n",
        "    figsize=(10, 8),\n",
        "    yticklabels=False\n",
        ")\n",
        "plt.show()"
      ],
      "metadata": {
        "id": "rw4JttWS58I0"
      },
      "execution_count": null,
      "outputs": []
    },
    {
      "cell_type": "markdown",
      "source": [
        "#### Venn diagram\n",
        "\n",
        "I think this is one of best way to show the amount of change that happened in each condition. Here I picked just 3, but you can *Venn diagram* as much as you like!\n",
        "\n",
        "You may need to explore different libraries for more complex venn diagrams (4, 5 or more groups)\n",
        "\n",
        "**Here we show the amount of genes that changed their splicing proportions in 3 different comparisons**"
      ],
      "metadata": {
        "id": "cNsjRoqfRInG"
      }
    },
    {
      "cell_type": "code",
      "source": [
        "# pip install matplotlib-venn\n",
        "from matplotlib_venn import venn3\n",
        "\n",
        "set1 = set(df_suppa.index[sig[\"Nuc_dark-Cit_dark\"]])\n",
        "set2 = set(df_suppa.index[sig[\"Nuc_light-Cit_light\"]])\n",
        "set3 = set(df_suppa.index[sig[\"Nuc_light-Nuc_dark\"]])\n",
        "\n",
        "labels = (\"Nuc D ↔ Cit D\", \"Nuc L ↔ Cit L\", \"Nuc L ↔ Cit D\")\n",
        "\n",
        "venn3([set1, set2, set3], set_labels=labels)\n",
        "plt.title(\"Significant ΔPSI | Venn diagram\")\n",
        "plt.show()\n"
      ],
      "metadata": {
        "id": "JZTAMuef_1jy"
      },
      "execution_count": null,
      "outputs": []
    },
    {
      "cell_type": "markdown",
      "source": [
        "#### Pair plot\n",
        "\n",
        "Visually explore relationships between multiple variables. It compares ΔPSI (delta Percent Spliced In) values between various conditions or contrasts."
      ],
      "metadata": {
        "id": "fCoMyN6fSP6m"
      }
    },
    {
      "cell_type": "code",
      "source": [
        "import itertools, seaborn as sns\n",
        "pair_cols = [f\"{c}_dPSI\" for c in contrasts]\n",
        "\n",
        "sns.pairplot(df_suppa[pair_cols], corner=True,\n",
        "             plot_kws=dict(s=8, alpha=.5))\n",
        "plt.suptitle(\"ΔPSI cross-contrast scatter matrix\", y=1.02)\n",
        "plt.show()"
      ],
      "metadata": {
        "id": "0iRYp1MIABcN"
      },
      "execution_count": null,
      "outputs": []
    },
    {
      "cell_type": "code",
      "source": [
        "import numpy as np # Import numpy for arange\n",
        "import matplotlib.pyplot as plt # Import matplotlib\n",
        "\n",
        "# --- recalc the two series -------------------------------------------------\n",
        "counts_up   = [(df_suppa[f\"{c}_dPSI\"] >  dpsi_cut).sum()  for c in contrasts]\n",
        "counts_down = [(df_suppa[f\"{c}_dPSI\"] < -dpsi_cut).sum()  for c in contrasts]\n",
        "counts_down = [-n for n in counts_down]   # negate so bars extend downward\n",
        "\n",
        "# --- plot ------------------------------------------------------------------\n",
        "x = np.arange(len(contrasts))\n",
        "fig, ax = plt.subplots()\n",
        "\n",
        "ax.bar(x, counts_up,             label=\"+ΔPSI\")         # upward bars\n",
        "ax.bar(x, counts_down,           label=\"-ΔPSI\")         # downward bars\n",
        "ax.axhline(0, color=\"k\", lw=1)                          # zero reference\n",
        "\n",
        "ax.set_xticks(x, contrasts, rotation=45, ha=\"right\")\n",
        "ax.set_ylabel(\"# significant events\")\n",
        "ax.legend()\n",
        "fig.tight_layout()\n",
        "plt.show()"
      ],
      "metadata": {
        "id": "eDu_GiE3Al2G"
      },
      "execution_count": null,
      "outputs": []
    },
    {
      "cell_type": "code",
      "source": [
        "# pip install tabulate  (pretty console tables)\n",
        "\n",
        "import pandas as pd\n",
        "from tabulate import tabulate\n",
        "# ------------------------------------------------------------------\n",
        "# 1.  Load your SUPPA2 data  (already done if df_suppa exists)\n",
        "# df_suppa = pd.read_csv(\"arabidopsis_suppa_output.tsv\", sep=\"\\t\", index_col=0)\n",
        "\n",
        "# 2.  Identify ΔPSI columns\n",
        "dpsi_cols = [c for c in df_suppa.columns if c.endswith(\"_dPSI\")]\n",
        "\n",
        "# 3 a.  ---  ISOFORM-LEVEL ranking  --------------------------------\n",
        "df_iso = df_suppa.copy()\n",
        "df_iso[\"max_abs_dPSI\"] = df_iso[dpsi_cols].abs().max(axis=1)\n",
        "\n",
        "top_iso = (\n",
        "    df_iso\n",
        "    .sort_values(\"max_abs_dPSI\", ascending=False)\n",
        "    .head(20)                                    # change to any N you like\n",
        "    [[\"max_abs_dPSI\"] + dpsi_cols]\n",
        "    .round(3)\n",
        ")\n",
        "\n",
        "print(\"\\nTop isoforms by |ΔPSI| in any contrast\")\n",
        "print(tabulate(top_iso, headers=\"keys\", tablefmt=\"github\"))\n"
      ],
      "metadata": {
        "id": "OcAlEESfBHZy"
      },
      "execution_count": null,
      "outputs": []
    },
    {
      "cell_type": "markdown",
      "source": [
        "### Inspecting the data!\n",
        "Let's go back to the TPMs and inspect what is SUPPA2 telling us!"
      ],
      "metadata": {
        "id": "pRYP1r1pJzMF"
      }
    },
    {
      "cell_type": "code",
      "source": [
        "gene_of_interest = \"AT3G61860\"\n",
        "display(tpm_combined[tpm_combined[\"Gene\"] == gene_of_interest])\n",
        "\n",
        "display(df_suppa.loc[(gene_of_interest, )])"
      ],
      "metadata": {
        "id": "9gJwxVDmIO-I"
      },
      "execution_count": null,
      "outputs": []
    },
    {
      "cell_type": "code",
      "source": [
        "df_transposed = tpm_combined[tpm_combined[\"Gene\"] == gene_of_interest].T\n",
        "\n",
        "# Exclude the 'Gene' row before performing numerical operations\n",
        "df_normalized = df_transposed.drop('Gene').div(df_transposed.drop('Gene').sum(axis=1), axis=0).fillna(0)\n",
        "\n",
        "# Plot normalized stacked bar chart\n",
        "fig, ax = plt.subplots(figsize=(12, 6))\n",
        "df_normalized.plot(kind='bar', stacked=True, ax=ax)\n",
        "\n",
        "# Customize plot\n",
        "ax.set_xlabel('Barcode')\n",
        "ax.set_ylabel('Proportion of Total Expression')\n",
        "ax.set_title(f'Proportional Expression of {gene_of_interest} Isoforms Across Barcodes')\n",
        "plt.xticks(rotation=45, ha='right')\n",
        "plt.tight_layout()\n",
        "\n",
        "plt.show()"
      ],
      "metadata": {
        "id": "VYd8TG6iM6LJ"
      },
      "execution_count": null,
      "outputs": []
    },
    {
      "cell_type": "code",
      "source": [
        "alpha = 0.05\n",
        "gene  = \"AT3G61860\"\n",
        "\n",
        "# ----- slice the gene first -----\n",
        "df_gene = df_suppa.xs(gene, level=\"Gene\")     # MultiIndex ➜ Gene level\n",
        "\n",
        "# ----- same logic as before, but on df_gene -----\n",
        "pval_cols   = [c for c in df_gene.columns if c.endswith(\"_p-val\")]\n",
        "cols_to_drop = []\n",
        "\n",
        "for pcol in pval_cols:\n",
        "    prefix = pcol.rsplit(\"_\", 1)[0]           # strip \"_p-val\"\n",
        "    if (df_gene[pcol] >= alpha).all():        # none significant in this gene\n",
        "        cols_to_drop += [f\"{prefix}_dPSI\", pcol]\n",
        "\n",
        "df_sig = df_gene.drop(columns=cols_to_drop)\n",
        "display(df_sig)"
      ],
      "metadata": {
        "id": "7Xxpd84IORaf"
      },
      "execution_count": null,
      "outputs": []
    },
    {
      "cell_type": "code",
      "source": [
        "# prompt: Using dataframe df_sig: suggest a plot\n",
        "\n",
        "import altair as alt\n",
        "\n",
        "# Reshape the dataframe to a long format for plotting\n",
        "# Reset the index to make 'Transcript' a column\n",
        "df_long = df_gene.reset_index().melt('Transcript', var_name='condition', value_name='value')\n",
        "\n",
        "# Separate the conditions and metrics\n",
        "df_long[['condition', 'metric']] = df_long['condition'].str.rsplit('_', n=1, expand=True)\n",
        "\n",
        "# Filter for dPSI values\n",
        "df_dpsi = df_long[df_long['metric'] == 'dPSI']\n",
        "\n",
        "# Create a bar chart\n",
        "chart = alt.Chart(df_dpsi).mark_bar().encode(\n",
        "    x=alt.X('condition:N', title='Condition'),  # X-axis by condition\n",
        "    y=alt.Y('value:Q', title='dPSI Value'),  # Y-axis for dPSI value\n",
        "    color='condition:N', # Color by condition\n",
        "    column=alt.Column('Transcript:N', header=alt.Header(titleOrient=\"bottom\", labelOrient=\"bottom\"), title='Transcript') # Separate columns for each transcript\n",
        ").properties(\n",
        "    title='dPSI Values by Transcript and Condition' # Chart title\n",
        ")\n",
        "\n",
        "chart"
      ],
      "metadata": {
        "id": "TDOm6R45uoOY"
      },
      "execution_count": null,
      "outputs": []
    },
    {
      "cell_type": "markdown",
      "source": [
        "We can see the isoforms here: https://boxify.boku.ac.at/\n",
        "\n",
        "![Screenshot from 2025-07-05 14-07-40.png](data:image/png;base64,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)"
      ],
      "metadata": {
        "id": "UtNEFd0RjeFe"
      }
    },
    {
      "cell_type": "markdown",
      "source": [
        "## IGV - Visualizing the reads\n",
        "### Let's use the genome browser!\n",
        "\n",
        "Finally let's check this gene on the genome browser.\n",
        "\n",
        "#### IGV (Integrative Genomics Viewer)\n",
        "\n",
        "Open the terminal and type `igv`\n",
        "\n",
        "**Load the genome:**\n",
        "\n",
        "Open `Genomes` -> `Load Genome from File...` and search for our reference genome: `/../ONT_RNA_workshop/Arabidopsis_references/genome/TAIR10_chr3.fna`\n",
        "\n",
        "**Load the annotations:**\n",
        "\n",
        "Open `File` -> `Load from File...` and search for our reference annotations: `/.../ONT_RNA_workshop/Arabidopsis_references/transcriptome/AtRTDv2_1_QUASI_chr3.gtf`\n",
        "\n",
        "**Load the BAM files:**\n",
        "*We should use the files mapped to the genome (NOT the transcriptome)*\n",
        "Open `File` -> `Load from File...` and search for our mapped BAMS on: `/.../ONT_RNA_workshop/3.1_Transcriptomics/mapping/minimap2/genome/`\n",
        "\n",
        " -- You can try with one, but IGV requests the BAMs **sorted** and **indexed** --\n",
        "\n",
        "We included a small script in the bam fodler that sorts and indexes our files. Look for `index_and_sort_bams.sh` from the terminal, be sure to execute it within the bam folder where the BAM files are placed!\n"
      ],
      "metadata": {
        "id": "lxfiE4UqkUUE"
      }
    },
    {
      "cell_type": "code",
      "source": [
        "alpha = 0.05                     # significance threshold\n",
        "\n",
        "# 1️⃣  columns that hold p-values\n",
        "pval_cols = [c for c in df_suppa.columns if c.endswith('_p-val')]\n",
        "\n",
        "# 2️⃣  Boolean matrix: True where p < alpha\n",
        "sig_bool = df_suppa[pval_cols].lt(alpha)          # lt = “less than”\n",
        "\n",
        "# 3️⃣  Aggregate by Gene (first level of the MultiIndex)\n",
        "#     • .groupby(level='Gene') keeps transcripts separate inside each gene\n",
        "#     • .sum() counts how many True values we had\n",
        "gene_sig_counts = sig_bool.groupby(level='Gene').sum()\n",
        "\n",
        "# 4️⃣  Optional: overall total per gene across all comparisons\n",
        "gene_sig_counts['total_sig'] = gene_sig_counts.sum(axis=1)\n",
        "\n",
        "# 5️⃣  Pick the top N genes\n",
        "top_genes = gene_sig_counts.sort_values('total_sig', ascending=False)\n",
        "\n",
        "display(top_genes.head(10))"
      ],
      "metadata": {
        "id": "8vWDw-wzw7Lf"
      },
      "execution_count": null,
      "outputs": []
    },
    {
      "cell_type": "markdown",
      "source": [
        "Let's check:\n",
        "\n",
        "- AT3G61860\n",
        "- AT3G50670\n",
        "- AT3G58560\n",
        "- AT3G26510 (comment on reads per sample)\n",
        "- AT3G23050\n"
      ],
      "metadata": {
        "id": "3VAUyfekyOFu"
      }
    },
    {
      "cell_type": "code",
      "source": [],
      "metadata": {
        "id": "lUhbzOfxzsJB"
      },
      "execution_count": null,
      "outputs": []
    }
  ]
}