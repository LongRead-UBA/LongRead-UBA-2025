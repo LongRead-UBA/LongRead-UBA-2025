{
  "nbformat": 4,
  "nbformat_minor": 0,
  "metadata": {
    "colab": {
      "provenance": []
    },
    "kernelspec": {
      "name": "python3",
      "display_name": "Python 3"
    },
    "language_info": {
      "name": "python"
    }
  },
  "cells": [
    {
      "cell_type": "markdown",
      "source": [
        "# Day 3: Epitranscriptomics Analysis\n",
        "## Detecting m6A RNA Modifications Using Oxford Nanopore Technology\n",
        "\n",
        "### Introduction to Epitranscriptomics\n",
        "\n",
        "**Epitranscriptomics** refers to the study of chemical modifications to RNA molecules that don't change the underlying sequence but can dramatically alter RNA function, stability, and translation. Just as epigenetics studies modifications to DNA and histones, epitranscriptomics explores the \"chemical decorations\" on RNA that add an additional layer of gene regulation.\n",
        "\n",
        "### N6-methyladenosine (m6A): The Most Abundant mRNA Modification\n",
        "\n",
        "Among the >150 known RNA modifications(m5C, Ψ pseudouridine, m7G, Inosine), **N6-methyladenosine (m6A)** is the most prevalent internal modification found in eukaryotic mRNAs. This modification:\n",
        "\n",
        "- Occurs primarily in the sequence motif **DRACH** (D=A/G/U, R=A/G, H=A/C/U)\n",
        "- Regulates mRNA stability, splicing, translation, and localization\n",
        "- Plays crucial roles in development, stress response, and disease\n",
        "- Can be dynamically added and removed by \"writer\" and \"eraser\" enzymes\n",
        "\n",
        "### Experimental Design: Light vs. Dark Conditions\n",
        "\n",
        "Our dataset compares RNA from **Arabidopsis thaliana** samples grown under two conditions:\n",
        "- 🌞 **Light condition**: Plants exposed to normal light cycles\n",
        "- 🌙 **Dark condition**: Plants grown in darkness\n",
        "\n",
        "This experimental design allows us to investigate how light exposure affects m6A modification patterns, potentially revealing circadian or photomorphogenic regulation of epitranscriptomic marks.\n",
        "\n",
        "### Computational Pipeline Overview\n",
        "\n",
        "We processed Oxford Nanopore direct RNA sequencing data through the following pipeline:\n",
        "\n",
        "#### 1. **Basecalling with Dorado**\n",
        "- Converted raw electrical signals (FAST5 files) to DNA sequences\n",
        "- Used the `rna002_70bps_hac@v3` model optimized for direct RNA sequencing\n",
        "- Generated BAM files with move information for downstream analysis\n",
        "\n",
        "#### 2. **Data Format Conversion**\n",
        "- Converted BAM files to FASTQ format for compatibility with downstream tools\n",
        "- Converted POD5 files to BLOW5 format for efficient signal access\n",
        "\n",
        "#### 3. **Signal-to-Sequence Alignment**\n",
        "- Used **nanopolish** to align electrical signals back to reference sequences\n",
        "- Generated event-level data showing how each nucleotide position corresponds to raw signals\n",
        "\n",
        "#### 4. **m6A Detection with m6anet**\n",
        "- **m6anet** is a machine learning tool specifically designed to detect m6A modifications from nanopore data\n",
        "- Used the pre-trained `arabidopsis_RNA002` model for species-specific detection\n",
        "- Performed both data preprocessing and probabilistic inference\n",
        "\n",
        "### What We'll Analyze Today\n",
        "\n",
        "In this notebook, we will:\n",
        "\n",
        "1. **📊 Load and explore** the m6anet output tables\n",
        "2. **🔍 Examine** m6A modification sites and their confidence scores\n",
        "3. **📈 Compare** modification patterns between light and dark conditions\n",
        "4. **🧬 Investigate** sequence contexts and motif preferences\n",
        "5. **📋 Identify** differentially modified transcripts\n",
        "6. **🎯 Visualize** modification sites on gene models\n",
        "\n",
        "### Learning Objectives\n",
        "\n",
        "By the end of this session, you should be able to:\n",
        "- Understand the biological significance of m6A modifications\n",
        "- Interpret m6anet output and quality metrics\n",
        "- Perform comparative analysis of epitranscriptomic data\n",
        "- Visualize modification patterns across different experimental conditions\n",
        "- Discuss the potential functional implications of observed modifications\n",
        "\n",
        "---"
      ],
      "metadata": {
        "id": "e5RRF09Syp2_"
      }
    },
    {
      "cell_type": "markdown",
      "source": [
        "## Complete Computational Pipeline Commands\n",
        "\n",
        "Below are the exact bash commands used to process the raw nanopore data through the entire m6anet pipeline:\n",
        "\n",
        "### Step 1: Basecalling with Dorado\n",
        "```bash\n",
        "# Process light condition samples\n",
        "dorado basecaller rna002_70bps_hac@v3 /.../RNA/raw_data/rna_total_light/fast5/*.fast5 -o /.../RNA/rna_bam/light_fast5 --emit-moves --models-directory /.../\n",
        "\n",
        "# Process dark condition samples\n",
        "dorado basecaller rna002_70bps_hac@v3 /.../RNA/raw_data/rna_total_dark/fast5/*.fast5 -o /.../RNA/rna_bam/dark_fast5/ --emit-moves --models-directory /.../\n",
        "```\n",
        "\n",
        "### Step 2: BAM to FASTQ Conversion\n",
        "```bash\n",
        "# Convert dark condition BAM to FASTQ\n",
        "samtools fastq /.../RNA/rna_bam/dark/basecall_dark.bam > /.../RNA/rna_fastq/dark/basecall_dark.fastq\n",
        "\n",
        "# Convert light condition BAM to FASTQ\n",
        "samtools fastq /.../RNA/rna_bam/light/basecall_light.bam > /.../RNA/rna_fastq/light/basecall_light.fastq\n",
        "```\n",
        "\n",
        "### Step 3: Signal File Format Conversion\n",
        "```bash\n",
        "# Install blue-crab for POD5 to BLOW5 conversion\n",
        "pip install blue-crab\n",
        "\n",
        "# Convert POD5 files to BLOW5 format\n",
        "blue-crab p2s -o /.../RNA/raw_data/rna_total_BLOW5/rna_dark.blow5 /.../RNA/raw_data/rna_total_POD5/rna_dark.pod5\n",
        "\n",
        "blue-crab p2s -o /.../RNA/raw_data/rna_total_BLOW5/rna_light.blow5 /.../RNA/raw_data/rna_total_POD5/rna_light.pod5\n",
        "```\n",
        "\n",
        "### Step 4: Nanopolish Indexing\n",
        "```bash\n",
        "# Index FASTQ files with corresponding signal files (using FAST5 format)\n",
        "nanopolish index -d /.../RNA/raw_data/rna_total_dark/fast5 /.../RNA/rna_fastq/dark/basecall_dark.fastq\n",
        "\n",
        "nanopolish index -d /.../RNA/raw_data/rna_total_light/fast5 /.../RNA/rna_fastq/light/basecall_light.fastq\n",
        "```\n",
        "\n",
        "### Step 5: Signal-to-Sequence Alignment (Nanopolish Eventalign)\n",
        "```bash\n",
        "# Generate event alignments for dark condition\n",
        "nanopolish eventalign --reads /.../RNA/rna_fastq/dark/basecall_dark.fastq \\\n",
        " --bam /.../RNA/rna_aligned_bam/dark/rna_dark.aligned.bam \\\n",
        " --genome /.../RNA/mapping/reference/mod_refs/AtRTDv2_1_QUASI.LS.fa \\\n",
        " --scale-events --signal-index \\\n",
        " --threads 14 > /.../RNA/nanopolish/dark/rna_dark_eventalign.txt\n",
        "\n",
        "# Generate event alignments for light condition\n",
        "nanopolish eventalign --reads /.../RNA/rna_fastq/light/basecall_light.fastq \\\n",
        " --bam /.../RNA/rna_aligned_bam/light/rna_light.aligned.bam \\\n",
        " --genome /.../RNA/mapping/reference/mod_refs/AtRTDv2_1_QUASI.LS.fa \\\n",
        " --scale-events --signal-index \\\n",
        " --threads 14 > /.../RNA/nanopolish/light/rna_light_eventalign.txt\n",
        "```\n",
        "\n",
        "### Step 6: m6anet Data Preparation\n",
        "```bash\n",
        "# Prepare data for m6anet analysis - dark condition\n",
        "m6anet dataprep --eventalign /.../RNA/nanopolish/dark/rna_dark_eventalign.txt \\\n",
        "                --out_dir /.../RNA/m6anet/dark/dataprep --n_processes 10\n",
        "\n",
        "# Prepare data for m6anet analysis - light condition                \n",
        "m6anet dataprep --eventalign /.../RNA/nanopolish/light/rna_light_eventalign.txt \\\n",
        "                --out_dir /.../RNA/m6anet/light/dataprep --n_processes 10\n",
        "```\n",
        "\n",
        "### Step 7: m6anet Inference (Final m6A Detection)\n",
        "```bash\n",
        "# Run m6A detection inference - dark condition\n",
        "m6anet inference --input_dir /.../RNA/m6anet/dark/dataprep \\\n",
        "                 --out_dir /.../RNA/m6anet/dark/result \\\n",
        "                 --pretrained_model arabidopsis_RNA002 --n_processes 10 --num_iterations 1000\n",
        "\n",
        "# Run m6A detection inference - light condition\n",
        "m6anet inference --input_dir /.../RNA/m6anet/light/dataprep \\\n",
        "                 --out_dir /.../RNA/m6anet/light/result \\\n",
        "                 --pretrained_model arabidopsis_RNA002 --n_processes 10 --num_iterations 1000\n",
        "```\n",
        "\n",
        "---\n",
        "\n",
        "**⚠️ Note**: This analysis uses real nanopore sequencing data, so processing times and file sizes reflect the computational demands of working with actual genomic datasets.\n",
        "\n",
        "Let's dive into the data and discover what the epitranscriptome can tell us about light-dependent gene regulation! 🚀"
      ],
      "metadata": {
        "id": "o3Ao7k7PxaMH"
      }
    },
    {
      "cell_type": "markdown",
      "source": [
        "---\n",
        "## Loading the data (python - pandas)\n",
        "\n",
        "For the next step on analysing the data, we will use Pandas library, which allow us to load dataframes, filter and parse data with a few lines of code!\n",
        "\n"
      ],
      "metadata": {
        "id": "3TQPV55L1Xwl"
      }
    },
    {
      "cell_type": "code",
      "execution_count": null,
      "metadata": {
        "id": "S2zVU6CyxWFi"
      },
      "outputs": [],
      "source": [
        "# Most python libraries can be easily installed using 'pip install xxxx'\n",
        "!pip install pandas"
      ]
    },
    {
      "cell_type": "code",
      "source": [
        "import pandas as pd # It's a common practice to import it as 'pd', but this is just an alias for easy usage"
      ],
      "metadata": {
        "id": "Bj0wiipb1sRP"
      },
      "execution_count": null,
      "outputs": []
    },
    {
      "cell_type": "code",
      "source": [
        "# Let's load the dataframes\n",
        "from google.colab import files\n",
        "# Small snippet to upload a file to colab.\n",
        "# Load the .POD5 sample file\n",
        "uploaded = files.upload()\n",
        "print(uploaded)\n",
        "#df_light = pd.read_csv(\"/.../RNA/m6anet/light/result/\")\n",
        "#df_dark = pd.read_csv(\"/.../RNA/m6anet/dark/result/\")"
      ],
      "metadata": {
        "id": "uKehmXVh17un"
      },
      "execution_count": null,
      "outputs": []
    },
    {
      "cell_type": "markdown",
      "source": [
        "-----------------\n",
        "\n",
        "## IGV - Demostrative example\n",
        "\n",
        "data from: https://hasindu2008.github.io/slow5tools/datasets.html#a-few-more-rna004-direct-rna"
      ],
      "metadata": {
        "id": "AQqWZhQf-7H1"
      }
    },
    {
      "cell_type": "code",
      "source": [],
      "metadata": {
        "id": "I9UB7pUA_ALy"
      },
      "execution_count": null,
      "outputs": []
    }
  ]
}